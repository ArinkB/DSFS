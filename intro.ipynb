{
 "metadata": {
  "language_info": {
   "codemirror_mode": {
    "name": "ipython",
    "version": 3
   },
   "file_extension": ".py",
   "mimetype": "text/x-python",
   "name": "python",
   "nbconvert_exporter": "python",
   "pygments_lexer": "ipython3",
   "version": "3.8.5"
  },
  "orig_nbformat": 2,
  "kernelspec": {
   "name": "python385jvsc74a57bd007efdcd4b820c98a756949507a4d29d7862823915ec7477944641bea022f4f62",
   "display_name": "Python 3.8.5 64-bit ('base': conda)"
  }
 },
 "nbformat": 4,
 "nbformat_minor": 2,
 "cells": [
  {
   "source": [
    "# Data Science From Scratch \n",
    "### Chapter 1\n",
    "##### Following along O'Reilly Data Science from Scratch, some comments are directly from book, while others are my own interpretation / observation."
   ],
   "cell_type": "markdown",
   "metadata": {}
  },
  {
   "source": [
    "I work at DataSciencester (Social Networking for Data Scientists) and have been given a task by the VP of Networking:\n",
    "- Who are the \"Key Connectors\" within the Network.\n"
   ],
   "cell_type": "markdown",
   "metadata": {}
  },
  {
   "cell_type": "code",
   "execution_count": 28,
   "metadata": {},
   "outputs": [],
   "source": [
    "# The \"dataset\" given, (not common), A list of dictionaries that includes the user id and name of each user\n",
    "\n",
    "users = [\n",
    "{ \"id\": 0, \"name\": \"Hero\" },\n",
    "{ \"id\": 1, \"name\": \"Dunn\" },\n",
    "{ \"id\": 2, \"name\": \"Sue\" },\n",
    "{ \"id\": 3, \"name\": \"Chi\" },\n",
    "{ \"id\": 4, \"name\": \"Thor\" },\n",
    "{ \"id\": 5, \"name\": \"Clive\" },\n",
    "{ \"id\": 6, \"name\": \"Hicks\" },\n",
    "{ \"id\": 7, \"name\": \"Devin\" },\n",
    "{ \"id\": 8, \"name\": \"Kate\" },\n",
    "{ \"id\": 9, \"name\": \"Klein\" }\n",
    "]"
   ]
  },
  {
   "cell_type": "code",
   "execution_count": 29,
   "metadata": {},
   "outputs": [],
   "source": [
    "## The friends list, a tuple representing who is friends with who\n",
    "\n",
    "friendship_pairs = [(0, 1), (0, 2), (1, 2), (1, 3), (2, 3), (3, 4),\n",
    "(4, 5), (5, 6), (5, 7), (6, 8), (7, 8), (8, 9)]"
   ]
  },
  {
   "source": [
    "To find out who is the key player in this social network game I would have to iterate through the tuples multiple times to get the user id and its relationship which altough the code would be simple, it takes time to get all answers especially when the datasets start to become bigger."
   ],
   "cell_type": "markdown",
   "metadata": {}
  },
  {
   "cell_type": "code",
   "execution_count": 30,
   "metadata": {},
   "outputs": [],
   "source": [
    "# Solution: Let's create a dictionary with the user id and a list of the friends\n",
    "\n",
    "friendships = {user['id']: [] for user in users} # this initializes the dictionary with an empty list where the key is the user id\n",
    "# we are setting the key in the dictionary to the user id looping through each user within the list of users, and the value for now is an empty list that will be appended to later\n"
   ]
  },
  {
   "cell_type": "code",
   "execution_count": 31,
   "metadata": {},
   "outputs": [],
   "source": [
    "for i, j in friendship_pairs: # for each pair of friends in the friendship pair tuple\n",
    "    friendships[i].append(j) # append the second person listed to the first person\n",
    "    friendships[j].append(i) # append the first person listed to the second person  \n",
    "    "
   ]
  },
  {
   "cell_type": "code",
   "execution_count": 40,
   "metadata": {},
   "outputs": [
    {
     "output_type": "execute_result",
     "data": {
      "text/plain": [
       "{0: [1, 2],\n",
       " 1: [0, 2, 3],\n",
       " 2: [0, 1, 3],\n",
       " 3: [1, 2, 4],\n",
       " 4: [3, 5],\n",
       " 5: [4, 6, 7],\n",
       " 6: [5, 8],\n",
       " 7: [5, 8],\n",
       " 8: [6, 7, 9],\n",
       " 9: [8]}"
      ]
     },
     "metadata": {},
     "execution_count": 40
    }
   ],
   "source": [
    "friendships\n",
    "# as we can see bellow, who is friends with whom and how many friends each person has."
   ]
  },
  {
   "source": [
    "Lets answer some questions:\n",
    "<br>How many Friends total?\n",
    "<br>What's the average number of connections?\n",
    "<br>Who are the Most Connected users?"
   ],
   "cell_type": "markdown",
   "metadata": {}
  },
  {
   "cell_type": "code",
   "execution_count": 61,
   "metadata": {},
   "outputs": [
    {
     "output_type": "execute_result",
     "data": {
      "text/plain": [
       "24"
      ]
     },
     "metadata": {},
     "execution_count": 61
    }
   ],
   "source": [
    "def number_of_friends(user): # a function that takes the user id\n",
    "    user_id = user[\"id\"] # the user id is then matched with the key user id in the dictionary\n",
    "    friend_ids = friendships[user_id] # and now we get the friend ids for the user id\n",
    "    return len(friend_ids) # returns the length(count) of the friends\n",
    "\n",
    "total_connections = sum(number_of_friends(user) # getting a sum of all the friends using the function\n",
    "for user in users)\n",
    "total_connections  # getting results  "
   ]
  },
  {
   "cell_type": "code",
   "execution_count": 143,
   "metadata": {},
   "outputs": [
    {
     "output_type": "stream",
     "name": "stdout",
     "text": [
      "There are 24 total friends amongst the 10 users\nThe average number of connections is 2.4\n"
     ]
    }
   ],
   "source": [
    "# The above is what the autho recommended to get to the results of how many friends total, below is my solution which is a quick simple for loop and counter\n",
    "friend_count = [] # set an empty list to show user and number of friends per user\n",
    "total_friends = 0 # set the counter to 0\n",
    "for i in friendships:     # for each item in the friendship dictionary's value only\n",
    "    friend_count.append((i, len(friendships[i]))) # append to the list the user id and number of friends that user has\n",
    "    total_friends += len(friendships[i]) # add the count of friends for that user to the counter\n",
    "print(f\"There are {total_friends} total friends amongst the {len(friendships)} users\") # return the results showing how many friends amoongs the users\n",
    "print(f\"The average number of connections is {total_friends / len(friendships)}\")"
   ]
  },
  {
   "cell_type": "code",
   "execution_count": 150,
   "metadata": {},
   "outputs": [],
   "source": [
    "friend_count.sort( # Sort the list\n",
    "key=lambda id_and_friends: id_and_friends[1], # by num_friends\n",
    "reverse=True)\n"
   ]
  },
  {
   "cell_type": "code",
   "execution_count": 151,
   "metadata": {},
   "outputs": [
    {
     "output_type": "execute_result",
     "data": {
      "text/plain": [
       "[(1, 3),\n",
       " (2, 3),\n",
       " (3, 3),\n",
       " (5, 3),\n",
       " (8, 3),\n",
       " (0, 2),\n",
       " (4, 2),\n",
       " (6, 2),\n",
       " (7, 2),\n",
       " (9, 1)]"
      ]
     },
     "metadata": {},
     "execution_count": 151
    }
   ],
   "source": [
    "friend_count"
   ]
  },
  {
   "cell_type": "code",
   "execution_count": null,
   "metadata": {},
   "outputs": [],
   "source": []
  }
 ]
}